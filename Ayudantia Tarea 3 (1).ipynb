{
 "cells": [
  {
   "cell_type": "markdown",
   "metadata": {},
   "source": [
    "<div style=\"float: right; margin-left: 30px;\"><img title=\"a\" style=\"float: right;margin-left: 30px;\" src=\"https://www.weap21.org/img/logocard2.png\" align=right height = 30 /></div>\n",
    "\n",
    "<p>\n",
    "<font size='7' face='Georgia, Arial'> ICH3710 </font><br>\n",
    "<font size='7' face='Georgia, Arial'> Ayudantia 3 </font><br>\n",
    "<font size='5' face='Georgia, Arial'> Integración Python-WEAP </font><br>    \n",
    "\n",
    "<font size='1'>&copy; 2020 Profesor Sebastian Vicuña - Vicente Jander (Estudiante). </font>\n",
    "<br>\n",
    "<font size='2'> Ayudantia para automatizar WEAP mediante rutinas escritas en Python para el curso Gestión de Recursos Hídricos (ICH3710) de la Pontificia Universidad Catolica de Chile, dictado el segundo semestre del 2020.</font>    \n",
    "    \n",
    "</p>    \n",
    "\n"
   ]
  },
  {
   "cell_type": "markdown",
   "metadata": {},
   "source": [
    "# ACOPLE WEAP-PYTHON"
   ]
  },
  {
   "cell_type": "markdown",
   "metadata": {},
   "source": [
    "## WEAP y Aspectos Generales"
   ]
  },
  {
   "cell_type": "markdown",
   "metadata": {},
   "source": [
    "WEAP permite la integracion con distintas plataformas de programacion, dentro de las cuales se tiene VisualBasic, Python, JavaScript, Pearl, etc. Para lograrlo, se basa en un conjunto de instrucciones agrupadas en seis clases, en donde cada clase contiene funcionalidades para un aspecto de WEAP en especifico:"
   ]
  },
  {
   "cell_type": "markdown",
   "metadata": {},
   "source": [
    "**a. WEAPApplication**: Esta clase contiene las propiedades y metodos *top-level* de WEAP, como iniciar el programa, e incluye el acceso a todas las otras clases (i.e. el resto son propiedades de esta).  \n",
    "\n",
    "**b. WEAPArea**: Contiene las funcionalidades asociadas a la gestión de áreas, como por ejemplo la definición y guardado de estas.  \n",
    "\n",
    "**c. WEAPScenario**: Contiene las funcionalidades asociadas a la gestión de los escenarios, como la creación, eliminación y conteo de estos.  \n",
    "\n",
    "**d. WEAPBranch**: Esta clase trabaja con las *branches* del árbol de datos de WEAP, y permite manejar detalles más finos, como obtener las variables asociadas al *branch*, crear y eliminar *hijos*, y obtener información sobre la conectividad de nodos y aguas subterraneas, así como ver los tipos de *branches*.  \n",
    "\n",
    "**e. WEAPVariable**: Esta clase contiene las funcionalidades necesarias para trabajar con las variables de cada *branch*, como por ejemplo definir sus valores, sea con una constante o una expresión, y obtener las unidades de medida de las variables (Esta clase viene como propiedad de WEAPBranch).   \n",
    "\n",
    "**f. WEAPVersion**: Esta clase hace referencia a las funcionalidades que permiten trabajar con las diferentes versiones de WEAP con las que se ha ejecutado el modelo (cotntar, renombrar, revertir, etc.)."
   ]
  },
  {
   "cell_type": "markdown",
   "metadata": {},
   "source": [
    "## Integracion de la API de WEAP con Python"
   ]
  },
  {
   "cell_type": "markdown",
   "metadata": {},
   "source": [
    "*¿Por que Python?*  \n",
    "Python es un lenguaje de programacion que tiene una rápida curva de aprendizaje, una sintaxis clara, es interpretado, y es ampliamente utilizado en las ciencias de la tierra y la hidrología, como, por ejemplo, su uso en el análisis de series de tiempo con librerías como **pandas**, o su integración con los Sistemas de información geográfica (GIS) como ArcGIS, QGIS, o GRASS, su implementación de Modflow como **flopy** entre otros. Al ser ampliamente utilizado, su desarrollo ha sido exponencial en todas las ramas de la ciencia, cuya disponibilidad en la mayor parte de los casos es inmediata a traves de repositorios virtuales como [GitHub](www.github.com)"
   ]
  },
  {
   "cell_type": "markdown",
   "metadata": {},
   "source": [
    "La *Aplication Programming Interface* o Interfaz de Programacion de Aplicaciones (API) de WEAP se integra con Python mediante la librería **win32com.client**, la cual permite a Python comunicarse con diferentes aplicaciones de Windows (además de WEAP, pueden automatizarce procesos de Excel, ...)."
   ]
  },
  {
   "cell_type": "markdown",
   "metadata": {},
   "source": [
    "## INSTALADORES"
   ]
  },
  {
   "cell_type": "markdown",
   "metadata": {},
   "source": [
    "Para instalar Python se recomienda descargar el paquete de [Anaconda](https://docs.anaconda.com/anaconda/install/), el cual instala el gestor de paquetes Conda que nos permite experimentar de forma segura en nuestros trabajos. Simplemente seleccionar su sistema operativo, descargar, y seguir las instrucciones en pantalla. Una segunda alternativa consiste en descargar directamente Python desde su [sitio web](https://www.python.org/downloads/) (Se recomienda la version 3.7.3 o inferior), lo cual nos instala ademas la interfaz IDLE y el gestor de paquetes PIP. Simplemente seleccionar *Windows x86-64 executable installer*. En cualquier caso, **recordar seleccionar la opción de añadir el programa a las variables de entorno (Add Python 3.7 to PATH)**.  \n",
    "Para comprobar el exito del proceso, abrir la consola de comandos (apretar Windows + R y escribiendo “cmd”), y escribir `python` (si fue correctamente instalado, se ejecutara python directo en esta terminal)."
   ]
  },
  {
   "cell_type": "markdown",
   "metadata": {},
   "source": [
    "Como se menciono previamente, para la ejecución de la API es necesario instalar el paquete **win32com.client**. Los paquetes (o librerias) son simplemente conjuntos de herramientas y scripts (en formato de códigos en Python y otros lenguajes) desarrolladas por usuarios expertos, para cumplir ciertas tareas específicas. Por lo general se publican bajo el mismo tipo de licencia que Python y son por lo tanto de carácter libre. Para instalarlos podemos usar el gestor de paquetes **Conda** o **Pip** (que obtiene datos desde el PyPI o Python Package Index) segun hayamos elegido."
   ]
  },
  {
   "cell_type": "markdown",
   "metadata": {},
   "source": [
    "Ambos gestores se utilizan directo desde el *Command Prompt* (cmd) o Terminal (Mac). Se sugiere iniciarla como administrador en el caso de Windows.  \n",
    "1. **Instalando con PIP**: La nomenclatura a seguir es `python -m pip install package`. Por lo que para instalar la libreria basta con `python -m pip install -U pywin32`.\n",
    "2. **Instalando con Conda**: La nomenclatura a seguir es `conda install package`. Por lo que para instalar la libreria basta con `conda install pywin32`. \n",
    "\n",
    "En ambos casos, y tras haber escrito el codigo, la instalacion comenzara de forma automatica. Una vez terminado el proceso, se puede verificar la correcta instalacion escribiendo en la consola (cmd): \n",
    "```python\n",
    "python\n",
    "import win32com.client as win32\n",
    "```\n",
    "Si el resultado de lo anterior son dos signos de comparación (>>) el proceso ha sido exitoso.  \n",
    "Ahora, te recomendamos que sigas los mismas pasos e instales la libreria Pandas (`python -m pip install pandas` o `conda install pandas`)"
   ]
  },
  {
   "cell_type": "markdown",
   "metadata": {},
   "source": [
    "## USANDO LA API"
   ]
  },
  {
   "cell_type": "markdown",
   "metadata": {},
   "source": [
    "Primero abrimos WEAP, y elegimos cualquier Area de trabajo (modelo). Luego, abrimos el IDLE (Jupyter, Spyder, Atom, el que prefieran) para editar nuestro script, e iniciamos importando los paquetes que usaremos."
   ]
  },
  {
   "cell_type": "code",
   "execution_count": null,
   "metadata": {},
   "outputs": [],
   "source": [
    "import win32com.client as win32"
   ]
  },
  {
   "cell_type": "markdown",
   "metadata": {},
   "source": [
    "Aca es importante notar que la librería Pywin32 tiene dos metodos para crear un objeto COM con Python (sobre el cual trabajamos, en este caso, un objeto COM de WEAP), los cuales tienen resultados muy diferentes:    \n",
    "1. El metodo `win32.Dispatch(\"WEAP.WEAPApplication)`, sobre un objeto que nunca ha sido utilizado antes (como es nuestro caso), no mostrara ninguna propiedad/metodo luego de crear el objeto (lo cual se denomina **late binding**). Esto conlleva el problema de que estaremos \"a ciegas\", sin saber que hacen los metodos, y sin documentacion alguna para trabajar.   \n",
    "2. El metodo `win32.gencache.EnsureDispatch(\"WEAP.WEAPApplication`) en cambio, obliga a Python a ejecutar el archivo makepy.py, creando una carpeta con todos los metodos y parametros disponibles para el objeto COM creado. Tras usar por primera vez este metodo sobre un objeto, el primero metodo (`Dispatch`) por default utilizara la carpeta recien creada. Por lo tanto, tras usar este segundo metodo sobre un objeto, ambs metodos entregaran el mismo resultado."
   ]
  },
  {
   "cell_type": "code",
   "execution_count": null,
   "metadata": {},
   "outputs": [],
   "source": [
    "# Iniciamos entonces la API de WEAP con early binding:\n",
    "# WEAP = win32.gencache.EnsureDispatch(\"WEAP.WEAPApplication\")\n",
    "WEAP = win32.Dispatch(\"WEAP.WEAPApplication\")"
   ]
  },
  {
   "cell_type": "markdown",
   "metadata": {},
   "source": [
    "Como usamos *early binding*, podemos ver los metodos disponibles de esta clase:"
   ]
  },
  {
   "cell_type": "code",
   "execution_count": null,
   "metadata": {},
   "outputs": [],
   "source": [
    "dir(WEAP)"
   ]
  },
  {
   "cell_type": "markdown",
   "metadata": {},
   "source": [
    "Como apoyo, la pestaña Ayuda/Help de WEAP tiene implementado ejemplos para cada metodo/propiedad en formato VBA."
   ]
  },
  {
   "cell_type": "markdown",
   "metadata": {},
   "source": [
    "De todas maneras, a continuacion veremos algunos metodos esenciales (en Python) para controlar WEAP:"
   ]
  },
  {
   "cell_type": "code",
   "execution_count": null,
   "metadata": {},
   "outputs": [],
   "source": [
    "# Para definir que mensajes queremos ver de WEAP (1:solo errores, 4: todos los mensajes):\n",
    "WEAP.Verbose\n",
    "\n",
    "# Para definir si es visible o no WEAP:\n",
    "WEAP.Visible = True\n",
    "\n",
    "# Para definir o ver la \"vista activa\" en WEAP (por ejemplo, schematic, data, results, scenario explorer,\n",
    "# notes o resultsnocalculation). Notar que \"results\" y \"scenario explorer\" obligan a WEAP a calcularlos:\n",
    "print(WEAP.View)\n",
    "WEAP.View = \"Notes\""
   ]
  },
  {
   "cell_type": "code",
   "execution_count": null,
   "metadata": {},
   "outputs": [],
   "source": [
    "# Podemos explorar los escenarios disponibles en cada Area (modelo) con:\n",
    "for a in WEAP.Areas:\n",
    "    print(\"Area: \", a.Name)\n",
    "    for s in WEAP.Scenarios:\n",
    "        print(s.Name)"
   ]
  },
  {
   "cell_type": "markdown",
   "metadata": {},
   "source": [
    "A continuación, definiremos el área o modelo a trabajar con los comandos de `Active.Area` donde se especifica que el nombre es “Tarea 3 - ICH3710\""
   ]
  },
  {
   "cell_type": "code",
   "execution_count": null,
   "metadata": {},
   "outputs": [],
   "source": [
    "for a in WEAP.Areas:\n",
    "    print(\"Area: \", a.Name)\n",
    "    for s in WEAP.Scenarios:\n",
    "        print(s.Name)"
   ]
  },
  {
   "cell_type": "code",
   "execution_count": null,
   "metadata": {},
   "outputs": [],
   "source": [
    "# Definimos el area (modelo) sobre el cual trabajaremos:\n",
    "WEAP.ActiveArea = \"Tarea 3 - ICH3710\"\n",
    "\n",
    "# De la misma forma podemos elegir el escenario activo con:\n",
    "WEAP.ActiveScenario = WEAP.Scenarios(\"Scenario_name\")\n",
    "\n",
    "# Notar que podemos tambien seleccionar un escenario y una version indicando su nombre:\n",
    "WEAP.Scenarios(\"scenario_name\")\n",
    "WEAP.Versions(\"Version_name\")"
   ]
  },
  {
   "cell_type": "code",
   "execution_count": null,
   "metadata": {},
   "outputs": [],
   "source": [
    "# Al igual que con areas y escenarios, podemos obtener todas las branches disponibles con:\n",
    "#WEAP.Branches\n",
    "for b in WEAP.Branches:\n",
    "    print(b.Name)"
   ]
  },
  {
   "cell_type": "code",
   "execution_count": null,
   "metadata": {},
   "outputs": [],
   "source": [
    "WEAP.Branch('\\\\Key Assumptions\\\\Unit Domestic Water Use').Variables(1).Expression = 100000"
   ]
  },
  {
   "cell_type": "code",
   "execution_count": null,
   "metadata": {},
   "outputs": [],
   "source": [
    "# Podemos navegar por todo el Arbol de directorios de WEAP seleccionando cualquier branch especifica con el metodo:\n",
    "WEAP.Branch()\n",
    "\n",
    "# Tras seleccionar una en particular, podemos observar las variables que contiene con la clase variable. Por ejemplo:\n",
    "WEAP.Branch('\\\\Key Assumptions\\\\Consumo Agricola').Variables(1).Name\n",
    "\n",
    "# Tambien podemos editar sus valores:\n",
    "WEAP.Branch('\\\\Demand Sites\\\\Agricultura').Variables('Annual Water Use Rate').Expression = 100\n",
    "\n",
    "# De la misma forma, podemos cambiar el valor de los key assumptions:\n",
    "WEAP.Branch('\\\\Key Assumptions\\\\Consumo Agricola').Variables(1).Expression = 10000\n",
    "\n",
    "# Alternativamente, podemos solo \"observar\" u obtener el valor de una de estas variables:\n",
    "WEAP.Branch('\\\\Key Assumptions\\\\Consumo Agricola').Variables(1).Value"
   ]
  },
  {
   "cell_type": "code",
   "execution_count": null,
   "metadata": {},
   "outputs": [],
   "source": [
    "# Para ejecutar WEAP (realizar los calculos):\n",
    "WEAP.Calculate()"
   ]
  },
  {
   "cell_type": "code",
   "execution_count": null,
   "metadata": {},
   "outputs": [],
   "source": [
    "# Para cargar un formato de reporte predefinido (Grafico, tabla,..), y que ya fue salvado en WEAP como favorito:\n",
    "favorite = \"tabla favorita\"\n",
    "WEAP.LoadFavorite(favorite)\n",
    "\n",
    "# Alternativamente, podemos cargar todo un \"Overview\" salvado en el \"Scenario Explorer\":\n",
    "WEAP.LoadOverview(\"Default\")\n",
    "\n",
    "# Ambos podemos exportarlos. En el segundo caso (overview), se exportan todas las tablas a un csv/xlsx"
   ]
  },
  {
   "cell_type": "code",
   "execution_count": null,
   "metadata": {},
   "outputs": [],
   "source": [
    "# Para exportar los resultados activos (notar que se movera a la pestaña de resultados, realizando los calculos pertinentes):\n",
    "file_name1 = \"C:\\resultados.csv\"\n",
    "WEAP.ExportResults(file_name1, IncludeTitle=False, IncludeColumnTitles=True, Transpose=True, ReadFromFileFormat=True)\n",
    "file_name2 = \"C:\\resultados.xlsx\"\n",
    "WEAP.ExportResults(file_name2)"
   ]
  }
 ],
 "metadata": {
  "kernelspec": {
   "display_name": "Python 3.6.10 64-bit ('GRRHH': conda)",
   "language": "python",
   "name": "python361064bitgrrhhconda7b4ad12d711a4925ac65a313d5de1fbd"
  },
  "language_info": {
   "codemirror_mode": {
    "name": "ipython",
    "version": 3
   },
   "file_extension": ".py",
   "mimetype": "text/x-python",
   "name": "python",
   "nbconvert_exporter": "python",
   "pygments_lexer": "ipython3",
   "version": "3.6.10"
  }
 },
 "nbformat": 4,
 "nbformat_minor": 4
}
